{
 "cells": [
  {
   "cell_type": "code",
   "execution_count": 1,
   "id": "3d8ea63b",
   "metadata": {},
   "outputs": [
    {
     "name": "stderr",
     "output_type": "stream",
     "text": [
      "C:\\Users\\pulki\\anaconda3\\lib\\site-packages\\scipy\\__init__.py:146: UserWarning: A NumPy version >=1.16.5 and <1.23.0 is required for this version of SciPy (detected version 1.26.3\n",
      "  warnings.warn(f\"A NumPy version >={np_minversion} and <{np_maxversion}\"\n"
     ]
    }
   ],
   "source": [
    "import pandas as pd\n",
    "import numpy as np\n",
    "import seaborn as sns\n",
    "import matplotlib.pyplot as plt"
   ]
  },
  {
   "cell_type": "code",
   "execution_count": 2,
   "id": "3f9ae1c6",
   "metadata": {},
   "outputs": [],
   "source": [
    "df=pd.read_csv(r\"C:\\Users\\pulki\\Downloads\\reviews_data_dump\\reviews_badminton\\data.csv\")"
   ]
  },
  {
   "cell_type": "code",
   "execution_count": 3,
   "id": "0d1d27fe",
   "metadata": {},
   "outputs": [
    {
     "data": {
      "text/html": [
       "<div>\n",
       "<style scoped>\n",
       "    .dataframe tbody tr th:only-of-type {\n",
       "        vertical-align: middle;\n",
       "    }\n",
       "\n",
       "    .dataframe tbody tr th {\n",
       "        vertical-align: top;\n",
       "    }\n",
       "\n",
       "    .dataframe thead th {\n",
       "        text-align: right;\n",
       "    }\n",
       "</style>\n",
       "<table border=\"1\" class=\"dataframe\">\n",
       "  <thead>\n",
       "    <tr style=\"text-align: right;\">\n",
       "      <th></th>\n",
       "      <th>Reviewer Name</th>\n",
       "      <th>Review Title</th>\n",
       "      <th>Place of Review</th>\n",
       "      <th>Up Votes</th>\n",
       "      <th>Down Votes</th>\n",
       "      <th>Month</th>\n",
       "      <th>Review text</th>\n",
       "      <th>Ratings</th>\n",
       "    </tr>\n",
       "  </thead>\n",
       "  <tbody>\n",
       "    <tr>\n",
       "      <th>0</th>\n",
       "      <td>Kamal Suresh</td>\n",
       "      <td>Nice product</td>\n",
       "      <td>Certified Buyer, Chirakkal</td>\n",
       "      <td>889.0</td>\n",
       "      <td>64.0</td>\n",
       "      <td>Feb 2021</td>\n",
       "      <td>Nice product, good quality, but price is now r...</td>\n",
       "      <td>4</td>\n",
       "    </tr>\n",
       "    <tr>\n",
       "      <th>1</th>\n",
       "      <td>Flipkart Customer</td>\n",
       "      <td>Don't waste your money</td>\n",
       "      <td>Certified Buyer, Hyderabad</td>\n",
       "      <td>109.0</td>\n",
       "      <td>6.0</td>\n",
       "      <td>Feb 2021</td>\n",
       "      <td>They didn't supplied Yonex Mavis 350. Outside ...</td>\n",
       "      <td>1</td>\n",
       "    </tr>\n",
       "    <tr>\n",
       "      <th>2</th>\n",
       "      <td>A. S. Raja Srinivasan</td>\n",
       "      <td>Did not meet expectations</td>\n",
       "      <td>Certified Buyer, Dharmapuri</td>\n",
       "      <td>42.0</td>\n",
       "      <td>3.0</td>\n",
       "      <td>Apr 2021</td>\n",
       "      <td>Worst product. Damaged shuttlecocks packed in ...</td>\n",
       "      <td>1</td>\n",
       "    </tr>\n",
       "    <tr>\n",
       "      <th>3</th>\n",
       "      <td>Suresh Narayanasamy</td>\n",
       "      <td>Fair</td>\n",
       "      <td>Certified Buyer, Chennai</td>\n",
       "      <td>25.0</td>\n",
       "      <td>1.0</td>\n",
       "      <td>NaN</td>\n",
       "      <td>Quite O. K. , but nowadays  the quality of the...</td>\n",
       "      <td>3</td>\n",
       "    </tr>\n",
       "    <tr>\n",
       "      <th>4</th>\n",
       "      <td>ASHIK P A</td>\n",
       "      <td>Over priced</td>\n",
       "      <td>NaN</td>\n",
       "      <td>147.0</td>\n",
       "      <td>24.0</td>\n",
       "      <td>Apr 2016</td>\n",
       "      <td>Over pricedJust â?¹620 ..from retailer.I didn'...</td>\n",
       "      <td>1</td>\n",
       "    </tr>\n",
       "    <tr>\n",
       "      <th>...</th>\n",
       "      <td>...</td>\n",
       "      <td>...</td>\n",
       "      <td>...</td>\n",
       "      <td>...</td>\n",
       "      <td>...</td>\n",
       "      <td>...</td>\n",
       "      <td>...</td>\n",
       "      <td>...</td>\n",
       "    </tr>\n",
       "    <tr>\n",
       "      <th>8513</th>\n",
       "      <td>NaN</td>\n",
       "      <td>NaN</td>\n",
       "      <td>NaN</td>\n",
       "      <td>NaN</td>\n",
       "      <td>NaN</td>\n",
       "      <td>NaN</td>\n",
       "      <td>NaN</td>\n",
       "      <td>5</td>\n",
       "    </tr>\n",
       "    <tr>\n",
       "      <th>8514</th>\n",
       "      <td>NaN</td>\n",
       "      <td>NaN</td>\n",
       "      <td>NaN</td>\n",
       "      <td>NaN</td>\n",
       "      <td>NaN</td>\n",
       "      <td>NaN</td>\n",
       "      <td>NaN</td>\n",
       "      <td>2</td>\n",
       "    </tr>\n",
       "    <tr>\n",
       "      <th>8515</th>\n",
       "      <td>NaN</td>\n",
       "      <td>NaN</td>\n",
       "      <td>NaN</td>\n",
       "      <td>NaN</td>\n",
       "      <td>NaN</td>\n",
       "      <td>NaN</td>\n",
       "      <td>NaN</td>\n",
       "      <td>4</td>\n",
       "    </tr>\n",
       "    <tr>\n",
       "      <th>8516</th>\n",
       "      <td>NaN</td>\n",
       "      <td>NaN</td>\n",
       "      <td>NaN</td>\n",
       "      <td>NaN</td>\n",
       "      <td>NaN</td>\n",
       "      <td>NaN</td>\n",
       "      <td>NaN</td>\n",
       "      <td>1</td>\n",
       "    </tr>\n",
       "    <tr>\n",
       "      <th>8517</th>\n",
       "      <td>NaN</td>\n",
       "      <td>NaN</td>\n",
       "      <td>NaN</td>\n",
       "      <td>NaN</td>\n",
       "      <td>NaN</td>\n",
       "      <td>NaN</td>\n",
       "      <td>NaN</td>\n",
       "      <td>4</td>\n",
       "    </tr>\n",
       "  </tbody>\n",
       "</table>\n",
       "<p>8518 rows × 8 columns</p>\n",
       "</div>"
      ],
      "text/plain": [
       "               Reviewer Name               Review Title  \\\n",
       "0               Kamal Suresh               Nice product   \n",
       "1          Flipkart Customer     Don't waste your money   \n",
       "2     A. S. Raja Srinivasan   Did not meet expectations   \n",
       "3        Suresh Narayanasamy                       Fair   \n",
       "4                  ASHIK P A                Over priced   \n",
       "...                      ...                        ...   \n",
       "8513                     NaN                        NaN   \n",
       "8514                     NaN                        NaN   \n",
       "8515                     NaN                        NaN   \n",
       "8516                     NaN                        NaN   \n",
       "8517                     NaN                        NaN   \n",
       "\n",
       "                  Place of Review  Up Votes  Down Votes     Month  \\\n",
       "0      Certified Buyer, Chirakkal     889.0        64.0  Feb 2021   \n",
       "1      Certified Buyer, Hyderabad     109.0         6.0  Feb 2021   \n",
       "2     Certified Buyer, Dharmapuri      42.0         3.0  Apr 2021   \n",
       "3        Certified Buyer, Chennai      25.0         1.0       NaN   \n",
       "4                             NaN     147.0        24.0  Apr 2016   \n",
       "...                           ...       ...         ...       ...   \n",
       "8513                          NaN       NaN         NaN       NaN   \n",
       "8514                          NaN       NaN         NaN       NaN   \n",
       "8515                          NaN       NaN         NaN       NaN   \n",
       "8516                          NaN       NaN         NaN       NaN   \n",
       "8517                          NaN       NaN         NaN       NaN   \n",
       "\n",
       "                                            Review text  Ratings  \n",
       "0     Nice product, good quality, but price is now r...        4  \n",
       "1     They didn't supplied Yonex Mavis 350. Outside ...        1  \n",
       "2     Worst product. Damaged shuttlecocks packed in ...        1  \n",
       "3     Quite O. K. , but nowadays  the quality of the...        3  \n",
       "4     Over pricedJust â?¹620 ..from retailer.I didn'...        1  \n",
       "...                                                 ...      ...  \n",
       "8513                                                NaN        5  \n",
       "8514                                                NaN        2  \n",
       "8515                                                NaN        4  \n",
       "8516                                                NaN        1  \n",
       "8517                                                NaN        4  \n",
       "\n",
       "[8518 rows x 8 columns]"
      ]
     },
     "execution_count": 3,
     "metadata": {},
     "output_type": "execute_result"
    }
   ],
   "source": [
    "df"
   ]
  },
  {
   "cell_type": "code",
   "execution_count": 4,
   "id": "2f609e50",
   "metadata": {},
   "outputs": [
    {
     "data": {
      "text/html": [
       "<div>\n",
       "<style scoped>\n",
       "    .dataframe tbody tr th:only-of-type {\n",
       "        vertical-align: middle;\n",
       "    }\n",
       "\n",
       "    .dataframe tbody tr th {\n",
       "        vertical-align: top;\n",
       "    }\n",
       "\n",
       "    .dataframe thead th {\n",
       "        text-align: right;\n",
       "    }\n",
       "</style>\n",
       "<table border=\"1\" class=\"dataframe\">\n",
       "  <thead>\n",
       "    <tr style=\"text-align: right;\">\n",
       "      <th></th>\n",
       "      <th>Reviewer Name</th>\n",
       "      <th>Review Title</th>\n",
       "      <th>Place of Review</th>\n",
       "      <th>Up Votes</th>\n",
       "      <th>Down Votes</th>\n",
       "      <th>Month</th>\n",
       "      <th>Review text</th>\n",
       "      <th>Ratings</th>\n",
       "      <th>Sentiment</th>\n",
       "    </tr>\n",
       "  </thead>\n",
       "  <tbody>\n",
       "    <tr>\n",
       "      <th>0</th>\n",
       "      <td>Kamal Suresh</td>\n",
       "      <td>Nice product</td>\n",
       "      <td>Certified Buyer, Chirakkal</td>\n",
       "      <td>889.0</td>\n",
       "      <td>64.0</td>\n",
       "      <td>Feb 2021</td>\n",
       "      <td>Nice product, good quality, but price is now r...</td>\n",
       "      <td>4</td>\n",
       "      <td>positive</td>\n",
       "    </tr>\n",
       "    <tr>\n",
       "      <th>1</th>\n",
       "      <td>Flipkart Customer</td>\n",
       "      <td>Don't waste your money</td>\n",
       "      <td>Certified Buyer, Hyderabad</td>\n",
       "      <td>109.0</td>\n",
       "      <td>6.0</td>\n",
       "      <td>Feb 2021</td>\n",
       "      <td>They didn't supplied Yonex Mavis 350. Outside ...</td>\n",
       "      <td>1</td>\n",
       "      <td>negative</td>\n",
       "    </tr>\n",
       "    <tr>\n",
       "      <th>2</th>\n",
       "      <td>A. S. Raja Srinivasan</td>\n",
       "      <td>Did not meet expectations</td>\n",
       "      <td>Certified Buyer, Dharmapuri</td>\n",
       "      <td>42.0</td>\n",
       "      <td>3.0</td>\n",
       "      <td>Apr 2021</td>\n",
       "      <td>Worst product. Damaged shuttlecocks packed in ...</td>\n",
       "      <td>1</td>\n",
       "      <td>negative</td>\n",
       "    </tr>\n",
       "    <tr>\n",
       "      <th>3</th>\n",
       "      <td>Suresh Narayanasamy</td>\n",
       "      <td>Fair</td>\n",
       "      <td>Certified Buyer, Chennai</td>\n",
       "      <td>25.0</td>\n",
       "      <td>1.0</td>\n",
       "      <td>NaN</td>\n",
       "      <td>Quite O. K. , but nowadays  the quality of the...</td>\n",
       "      <td>3</td>\n",
       "      <td>positive</td>\n",
       "    </tr>\n",
       "    <tr>\n",
       "      <th>4</th>\n",
       "      <td>ASHIK P A</td>\n",
       "      <td>Over priced</td>\n",
       "      <td>NaN</td>\n",
       "      <td>147.0</td>\n",
       "      <td>24.0</td>\n",
       "      <td>Apr 2016</td>\n",
       "      <td>Over pricedJust â?¹620 ..from retailer.I didn'...</td>\n",
       "      <td>1</td>\n",
       "      <td>negative</td>\n",
       "    </tr>\n",
       "  </tbody>\n",
       "</table>\n",
       "</div>"
      ],
      "text/plain": [
       "            Reviewer Name               Review Title  \\\n",
       "0            Kamal Suresh               Nice product   \n",
       "1       Flipkart Customer     Don't waste your money   \n",
       "2  A. S. Raja Srinivasan   Did not meet expectations   \n",
       "3     Suresh Narayanasamy                       Fair   \n",
       "4               ASHIK P A                Over priced   \n",
       "\n",
       "               Place of Review  Up Votes  Down Votes     Month  \\\n",
       "0   Certified Buyer, Chirakkal     889.0        64.0  Feb 2021   \n",
       "1   Certified Buyer, Hyderabad     109.0         6.0  Feb 2021   \n",
       "2  Certified Buyer, Dharmapuri      42.0         3.0  Apr 2021   \n",
       "3     Certified Buyer, Chennai      25.0         1.0       NaN   \n",
       "4                          NaN     147.0        24.0  Apr 2016   \n",
       "\n",
       "                                         Review text  Ratings Sentiment  \n",
       "0  Nice product, good quality, but price is now r...        4  positive  \n",
       "1  They didn't supplied Yonex Mavis 350. Outside ...        1  negative  \n",
       "2  Worst product. Damaged shuttlecocks packed in ...        1  negative  \n",
       "3  Quite O. K. , but nowadays  the quality of the...        3  positive  \n",
       "4  Over pricedJust â?¹620 ..from retailer.I didn'...        1  negative  "
      ]
     },
     "execution_count": 4,
     "metadata": {},
     "output_type": "execute_result"
    }
   ],
   "source": [
    "# Defining a function to map ratings to sentiment labels\n",
    "def map_rating_to_sentiment(rating):\n",
    "    if rating >= 3:\n",
    "        return 'positive'\n",
    "    else:\n",
    "        return 'negative'\n",
    "\n",
    "# Applying the function to create a new column containing sentiment labels\n",
    "df['Sentiment'] = df['Ratings'].apply(map_rating_to_sentiment)\n",
    "df.head()"
   ]
  },
  {
   "cell_type": "code",
   "execution_count": 5,
   "id": "427477e8",
   "metadata": {},
   "outputs": [
    {
     "name": "stdout",
     "output_type": "stream",
     "text": [
      "Reviewer Name       10\n",
      "Review Title        10\n",
      "Place of Review     50\n",
      "Up Votes            10\n",
      "Down Votes          10\n",
      "Month              465\n",
      "Review text          8\n",
      "Ratings              0\n",
      "Sentiment            0\n",
      "dtype: int64\n"
     ]
    }
   ],
   "source": [
    "# Checking for null values in the dataset\n",
    "print(df.isnull().sum())"
   ]
  },
  {
   "cell_type": "code",
   "execution_count": 6,
   "id": "7a07b66f",
   "metadata": {},
   "outputs": [],
   "source": [
    "# Dropping rows with null values, if any\n",
    "df.dropna(inplace=True)"
   ]
  },
  {
   "cell_type": "code",
   "execution_count": 7,
   "id": "f2b9f5fa",
   "metadata": {},
   "outputs": [],
   "source": [
    "df.reset_index(drop=True, inplace=True)"
   ]
  },
  {
   "cell_type": "code",
   "execution_count": 8,
   "id": "17f60db8",
   "metadata": {},
   "outputs": [
    {
     "name": "stdout",
     "output_type": "stream",
     "text": [
      "<class 'pandas.core.frame.DataFrame'>\n",
      "RangeIndex: 8013 entries, 0 to 8012\n",
      "Data columns (total 9 columns):\n",
      " #   Column           Non-Null Count  Dtype  \n",
      "---  ------           --------------  -----  \n",
      " 0   Reviewer Name    8013 non-null   object \n",
      " 1   Review Title     8013 non-null   object \n",
      " 2   Place of Review  8013 non-null   object \n",
      " 3   Up Votes         8013 non-null   float64\n",
      " 4   Down Votes       8013 non-null   float64\n",
      " 5   Month            8013 non-null   object \n",
      " 6   Review text      8013 non-null   object \n",
      " 7   Ratings          8013 non-null   int64  \n",
      " 8   Sentiment        8013 non-null   object \n",
      "dtypes: float64(2), int64(1), object(6)\n",
      "memory usage: 563.5+ KB\n"
     ]
    }
   ],
   "source": [
    "# Displaying the basic information about the dataset\n",
    "df.info()"
   ]
  },
  {
   "cell_type": "code",
   "execution_count": 9,
   "id": "e17714ae",
   "metadata": {},
   "outputs": [
    {
     "data": {
      "text/html": [
       "<div>\n",
       "<style scoped>\n",
       "    .dataframe tbody tr th:only-of-type {\n",
       "        vertical-align: middle;\n",
       "    }\n",
       "\n",
       "    .dataframe tbody tr th {\n",
       "        vertical-align: top;\n",
       "    }\n",
       "\n",
       "    .dataframe thead th {\n",
       "        text-align: right;\n",
       "    }\n",
       "</style>\n",
       "<table border=\"1\" class=\"dataframe\">\n",
       "  <thead>\n",
       "    <tr style=\"text-align: right;\">\n",
       "      <th></th>\n",
       "      <th>Reviewer Name</th>\n",
       "      <th>Review Title</th>\n",
       "      <th>Place of Review</th>\n",
       "      <th>Up Votes</th>\n",
       "      <th>Down Votes</th>\n",
       "      <th>Month</th>\n",
       "      <th>Review text</th>\n",
       "      <th>Ratings</th>\n",
       "      <th>Sentiment</th>\n",
       "    </tr>\n",
       "  </thead>\n",
       "  <tbody>\n",
       "    <tr>\n",
       "      <th>0</th>\n",
       "      <td>Kamal Suresh</td>\n",
       "      <td>Nice product</td>\n",
       "      <td>Certified Buyer, Chirakkal</td>\n",
       "      <td>889.0</td>\n",
       "      <td>64.0</td>\n",
       "      <td>Feb 2021</td>\n",
       "      <td>Nice product, good quality, but price is now r...</td>\n",
       "      <td>4</td>\n",
       "      <td>positive</td>\n",
       "    </tr>\n",
       "    <tr>\n",
       "      <th>1</th>\n",
       "      <td>Flipkart Customer</td>\n",
       "      <td>Don't waste your money</td>\n",
       "      <td>Certified Buyer, Hyderabad</td>\n",
       "      <td>109.0</td>\n",
       "      <td>6.0</td>\n",
       "      <td>Feb 2021</td>\n",
       "      <td>They didn't supplied Yonex Mavis 350. Outside ...</td>\n",
       "      <td>1</td>\n",
       "      <td>negative</td>\n",
       "    </tr>\n",
       "    <tr>\n",
       "      <th>2</th>\n",
       "      <td>A. S. Raja Srinivasan</td>\n",
       "      <td>Did not meet expectations</td>\n",
       "      <td>Certified Buyer, Dharmapuri</td>\n",
       "      <td>42.0</td>\n",
       "      <td>3.0</td>\n",
       "      <td>Apr 2021</td>\n",
       "      <td>Worst product. Damaged shuttlecocks packed in ...</td>\n",
       "      <td>1</td>\n",
       "      <td>negative</td>\n",
       "    </tr>\n",
       "    <tr>\n",
       "      <th>3</th>\n",
       "      <td>Baji Sankar</td>\n",
       "      <td>Mind-blowing purchase</td>\n",
       "      <td>Certified Buyer, Hyderabad</td>\n",
       "      <td>173.0</td>\n",
       "      <td>45.0</td>\n",
       "      <td>Oct 2018</td>\n",
       "      <td>Good quality product. Delivered on time.READ MORE</td>\n",
       "      <td>5</td>\n",
       "      <td>positive</td>\n",
       "    </tr>\n",
       "    <tr>\n",
       "      <th>4</th>\n",
       "      <td>Flipkart Customer</td>\n",
       "      <td>Must buy!</td>\n",
       "      <td>Certified Buyer, Doom Dooma</td>\n",
       "      <td>403.0</td>\n",
       "      <td>121.0</td>\n",
       "      <td>Jan 2020</td>\n",
       "      <td>BEST PURCHASE It is a good quality and is more...</td>\n",
       "      <td>5</td>\n",
       "      <td>positive</td>\n",
       "    </tr>\n",
       "  </tbody>\n",
       "</table>\n",
       "</div>"
      ],
      "text/plain": [
       "            Reviewer Name               Review Title  \\\n",
       "0            Kamal Suresh               Nice product   \n",
       "1       Flipkart Customer     Don't waste your money   \n",
       "2  A. S. Raja Srinivasan   Did not meet expectations   \n",
       "3             Baji Sankar      Mind-blowing purchase   \n",
       "4       Flipkart Customer                  Must buy!   \n",
       "\n",
       "               Place of Review  Up Votes  Down Votes     Month  \\\n",
       "0   Certified Buyer, Chirakkal     889.0        64.0  Feb 2021   \n",
       "1   Certified Buyer, Hyderabad     109.0         6.0  Feb 2021   \n",
       "2  Certified Buyer, Dharmapuri      42.0         3.0  Apr 2021   \n",
       "3   Certified Buyer, Hyderabad     173.0        45.0  Oct 2018   \n",
       "4  Certified Buyer, Doom Dooma     403.0       121.0  Jan 2020   \n",
       "\n",
       "                                         Review text  Ratings Sentiment  \n",
       "0  Nice product, good quality, but price is now r...        4  positive  \n",
       "1  They didn't supplied Yonex Mavis 350. Outside ...        1  negative  \n",
       "2  Worst product. Damaged shuttlecocks packed in ...        1  negative  \n",
       "3  Good quality product. Delivered on time.READ MORE        5  positive  \n",
       "4  BEST PURCHASE It is a good quality and is more...        5  positive  "
      ]
     },
     "execution_count": 9,
     "metadata": {},
     "output_type": "execute_result"
    }
   ],
   "source": [
    "# Display the first few rows of the dataset\n",
    "df.head()"
   ]
  },
  {
   "cell_type": "code",
   "execution_count": 10,
   "id": "7d0a939d",
   "metadata": {},
   "outputs": [],
   "source": [
    "import spacy\n",
    "# Loading the 'en_core_web_sm' \n",
    "nlp = spacy.load(\"en_core_web_sm\")"
   ]
  },
  {
   "cell_type": "markdown",
   "id": "09012290",
   "metadata": {},
   "source": [
    "## Data Preprocessing"
   ]
  },
  {
   "cell_type": "code",
   "execution_count": 11,
   "id": "8c2c1707",
   "metadata": {
    "scrolled": false
   },
   "outputs": [],
   "source": [
    "import re\n",
    "from nltk.corpus import stopwords\n",
    "from nltk.tokenize import word_tokenize\n",
    "from nltk.stem import WordNetLemmatizer\n",
    "\n",
    "\n",
    "# Function for text cleaning\n",
    "def clean_text(text):\n",
    "    text = re.sub(r'[^a-zA-Z\\s]', '', text)  # Remove special characters and punctuation\n",
    "    text = text.lower()  # Convert text to lowercase\n",
    "    tokens = word_tokenize(text)  # Tokenize the text\n",
    "    stop_words = set(stopwords.words('english'))  # Get stopwords\n",
    "    tokens = [word for word in tokens if word not in stop_words]  # Remove stopwords\n",
    "    lemmatizer = WordNetLemmatizer()\n",
    "    tokens = [lemmatizer.lemmatize(word) for word in tokens]  # Lemmatize words\n",
    "    clean_text = ' '.join(tokens)  # Join tokens back into text\n",
    "    return clean_text\n",
    "\n",
    "\n",
    "# Applying text cleaning to the review text column\n",
    "df['cleaned_text'] = df['Review text'].apply(clean_text)"
   ]
  },
  {
   "cell_type": "code",
   "execution_count": 12,
   "id": "29294d49",
   "metadata": {},
   "outputs": [
    {
     "data": {
      "text/html": [
       "<div>\n",
       "<style scoped>\n",
       "    .dataframe tbody tr th:only-of-type {\n",
       "        vertical-align: middle;\n",
       "    }\n",
       "\n",
       "    .dataframe tbody tr th {\n",
       "        vertical-align: top;\n",
       "    }\n",
       "\n",
       "    .dataframe thead th {\n",
       "        text-align: right;\n",
       "    }\n",
       "</style>\n",
       "<table border=\"1\" class=\"dataframe\">\n",
       "  <thead>\n",
       "    <tr style=\"text-align: right;\">\n",
       "      <th></th>\n",
       "      <th>Reviewer Name</th>\n",
       "      <th>Review Title</th>\n",
       "      <th>Place of Review</th>\n",
       "      <th>Up Votes</th>\n",
       "      <th>Down Votes</th>\n",
       "      <th>Month</th>\n",
       "      <th>Review text</th>\n",
       "      <th>Ratings</th>\n",
       "      <th>Sentiment</th>\n",
       "      <th>cleaned_text</th>\n",
       "    </tr>\n",
       "  </thead>\n",
       "  <tbody>\n",
       "    <tr>\n",
       "      <th>0</th>\n",
       "      <td>Kamal Suresh</td>\n",
       "      <td>Nice product</td>\n",
       "      <td>Certified Buyer, Chirakkal</td>\n",
       "      <td>889.0</td>\n",
       "      <td>64.0</td>\n",
       "      <td>Feb 2021</td>\n",
       "      <td>Nice product, good quality, but price is now r...</td>\n",
       "      <td>4</td>\n",
       "      <td>positive</td>\n",
       "      <td>nice product good quality price rising bad sig...</td>\n",
       "    </tr>\n",
       "    <tr>\n",
       "      <th>1</th>\n",
       "      <td>Flipkart Customer</td>\n",
       "      <td>Don't waste your money</td>\n",
       "      <td>Certified Buyer, Hyderabad</td>\n",
       "      <td>109.0</td>\n",
       "      <td>6.0</td>\n",
       "      <td>Feb 2021</td>\n",
       "      <td>They didn't supplied Yonex Mavis 350. Outside ...</td>\n",
       "      <td>1</td>\n",
       "      <td>negative</td>\n",
       "      <td>didnt supplied yonex mavis outside cover yonex...</td>\n",
       "    </tr>\n",
       "    <tr>\n",
       "      <th>2</th>\n",
       "      <td>A. S. Raja Srinivasan</td>\n",
       "      <td>Did not meet expectations</td>\n",
       "      <td>Certified Buyer, Dharmapuri</td>\n",
       "      <td>42.0</td>\n",
       "      <td>3.0</td>\n",
       "      <td>Apr 2021</td>\n",
       "      <td>Worst product. Damaged shuttlecocks packed in ...</td>\n",
       "      <td>1</td>\n",
       "      <td>negative</td>\n",
       "      <td>worst product damaged shuttlecock packed new b...</td>\n",
       "    </tr>\n",
       "    <tr>\n",
       "      <th>3</th>\n",
       "      <td>Baji Sankar</td>\n",
       "      <td>Mind-blowing purchase</td>\n",
       "      <td>Certified Buyer, Hyderabad</td>\n",
       "      <td>173.0</td>\n",
       "      <td>45.0</td>\n",
       "      <td>Oct 2018</td>\n",
       "      <td>Good quality product. Delivered on time.READ MORE</td>\n",
       "      <td>5</td>\n",
       "      <td>positive</td>\n",
       "      <td>good quality product delivered timeread</td>\n",
       "    </tr>\n",
       "    <tr>\n",
       "      <th>4</th>\n",
       "      <td>Flipkart Customer</td>\n",
       "      <td>Must buy!</td>\n",
       "      <td>Certified Buyer, Doom Dooma</td>\n",
       "      <td>403.0</td>\n",
       "      <td>121.0</td>\n",
       "      <td>Jan 2020</td>\n",
       "      <td>BEST PURCHASE It is a good quality and is more...</td>\n",
       "      <td>5</td>\n",
       "      <td>positive</td>\n",
       "      <td>best purchase good quality durable average shu...</td>\n",
       "    </tr>\n",
       "  </tbody>\n",
       "</table>\n",
       "</div>"
      ],
      "text/plain": [
       "            Reviewer Name               Review Title  \\\n",
       "0            Kamal Suresh               Nice product   \n",
       "1       Flipkart Customer     Don't waste your money   \n",
       "2  A. S. Raja Srinivasan   Did not meet expectations   \n",
       "3             Baji Sankar      Mind-blowing purchase   \n",
       "4       Flipkart Customer                  Must buy!   \n",
       "\n",
       "               Place of Review  Up Votes  Down Votes     Month  \\\n",
       "0   Certified Buyer, Chirakkal     889.0        64.0  Feb 2021   \n",
       "1   Certified Buyer, Hyderabad     109.0         6.0  Feb 2021   \n",
       "2  Certified Buyer, Dharmapuri      42.0         3.0  Apr 2021   \n",
       "3   Certified Buyer, Hyderabad     173.0        45.0  Oct 2018   \n",
       "4  Certified Buyer, Doom Dooma     403.0       121.0  Jan 2020   \n",
       "\n",
       "                                         Review text  Ratings Sentiment  \\\n",
       "0  Nice product, good quality, but price is now r...        4  positive   \n",
       "1  They didn't supplied Yonex Mavis 350. Outside ...        1  negative   \n",
       "2  Worst product. Damaged shuttlecocks packed in ...        1  negative   \n",
       "3  Good quality product. Delivered on time.READ MORE        5  positive   \n",
       "4  BEST PURCHASE It is a good quality and is more...        5  positive   \n",
       "\n",
       "                                        cleaned_text  \n",
       "0  nice product good quality price rising bad sig...  \n",
       "1  didnt supplied yonex mavis outside cover yonex...  \n",
       "2  worst product damaged shuttlecock packed new b...  \n",
       "3            good quality product delivered timeread  \n",
       "4  best purchase good quality durable average shu...  "
      ]
     },
     "execution_count": 12,
     "metadata": {},
     "output_type": "execute_result"
    }
   ],
   "source": [
    "df.head()"
   ]
  },
  {
   "cell_type": "code",
   "execution_count": 13,
   "id": "efdd9af6",
   "metadata": {},
   "outputs": [],
   "source": [
    "from sklearn.feature_extraction.text import TfidfVectorizer\n",
    "\n",
    "# TF-IDF representation\n",
    "tfidf_vectorizer = TfidfVectorizer(max_features=5000)\n",
    "X_tfidf = tfidf_vectorizer.fit_transform(df['cleaned_text'])"
   ]
  },
  {
   "cell_type": "code",
   "execution_count": 14,
   "id": "c8f8b736",
   "metadata": {},
   "outputs": [],
   "source": [
    "# BoW representation\n",
    "from sklearn.feature_extraction.text import CountVectorizer\n",
    "from gensim.models import Word2Vec\n",
    "from transformers import BertTokenizer\n",
    "from transformers import BertModel\n",
    "import torch\n",
    "\n",
    "\n",
    "bow_vectorizer = CountVectorizer()\n",
    "X_bow = bow_vectorizer.fit_transform(df['cleaned_text'])"
   ]
  },
  {
   "cell_type": "code",
   "execution_count": 15,
   "id": "edc85d8f",
   "metadata": {},
   "outputs": [],
   "source": [
    "# Word2Vec (W2V) representation\n",
    "tokenized_text = df['cleaned_text'].apply(lambda x: x.split())\n",
    "w2v_model = Word2Vec(tokenized_text, vector_size=100, window=5, min_count=1, workers=4)\n",
    "\n",
    "def average_word_vectors(words, model, vocabulary, num_features):\n",
    "    feature_vector = np.zeros((num_features,), dtype=\"float64\")\n",
    "    nwords = 0.\n",
    "    for word in words:\n",
    "        if word in vocabulary:\n",
    "            nwords = nwords + 1\n",
    "            feature_vector = np.add(feature_vector, model.wv[word])\n",
    "    if nwords:\n",
    "        feature_vector = np.divide(feature_vector, nwords)\n",
    "    return feature_vector\n",
    "\n",
    "def word_vectorizer(docs, model, num_features):\n",
    "    vocabulary = set(model.wv.index_to_key)\n",
    "    features = [average_word_vectors(tokenized_sentence, model, vocabulary, num_features)\n",
    "                    for tokenized_sentence in docs]\n",
    "    return np.array(features)\n",
    "\n",
    "X_w2v = word_vectorizer(tokenized_text, w2v_model, 100)"
   ]
  },
  {
   "cell_type": "markdown",
   "id": "7ac48348",
   "metadata": {},
   "source": [
    "## Split the data into training and testing sets"
   ]
  },
  {
   "cell_type": "code",
   "execution_count": 16,
   "id": "32239740",
   "metadata": {},
   "outputs": [],
   "source": [
    "from sklearn.model_selection import train_test_split\n",
    "from sklearn.feature_extraction.text import TfidfVectorizer\n",
    "from sklearn.metrics import classification_report, f1_score\n",
    "from sklearn.linear_model import LogisticRegression\n",
    "from sklearn.naive_bayes import MultinomialNB\n",
    "from sklearn.svm import SVC\n",
    "from sklearn.ensemble import RandomForestClassifier\n",
    "\n",
    "# Assuming df is your DataFrame containing the reviews and sentiment\n",
    "X = df['Review text']\n",
    "y = df['Sentiment']\n",
    "\n",
    "# Split the data into training and testing sets\n",
    "X_train, X_test, y_train, y_test = train_test_split(X_tfidf, y, test_size=0.2, random_state=42)"
   ]
  },
  {
   "cell_type": "code",
   "execution_count": 17,
   "id": "d67809a8",
   "metadata": {},
   "outputs": [
    {
     "data": {
      "text/plain": [
       "0       Nice product, good quality, but price is now r...\n",
       "1       They didn't supplied Yonex Mavis 350. Outside ...\n",
       "2       Worst product. Damaged shuttlecocks packed in ...\n",
       "3       Good quality product. Delivered on time.READ MORE\n",
       "4       BEST PURCHASE It is a good quality and is more...\n",
       "                              ...                        \n",
       "8008    Thanks to the delivery boy ... Service is alwa...\n",
       "8009    Over priced even after 50% discount price is m...\n",
       "8010    Too much priced. It was getting me for Rs. 640...\n",
       "8011    Hii flipkart customers care..why your delivery...\n",
       "8012                         Nice delivery speedREAD MORE\n",
       "Name: Review text, Length: 8013, dtype: object"
      ]
     },
     "execution_count": 17,
     "metadata": {},
     "output_type": "execute_result"
    }
   ],
   "source": [
    "X"
   ]
  },
  {
   "cell_type": "code",
   "execution_count": 18,
   "id": "c58e0efd",
   "metadata": {},
   "outputs": [
    {
     "data": {
      "text/plain": [
       "0       positive\n",
       "1       negative\n",
       "2       negative\n",
       "3       positive\n",
       "4       positive\n",
       "          ...   \n",
       "8008    positive\n",
       "8009    negative\n",
       "8010    negative\n",
       "8011    positive\n",
       "8012    positive\n",
       "Name: Sentiment, Length: 8013, dtype: object"
      ]
     },
     "execution_count": 18,
     "metadata": {},
     "output_type": "execute_result"
    }
   ],
   "source": [
    "y"
   ]
  },
  {
   "cell_type": "code",
   "execution_count": 19,
   "id": "8998c877",
   "metadata": {},
   "outputs": [
    {
     "name": "stdout",
     "output_type": "stream",
     "text": [
      "Shape of X_train: (6410, 3460)\n",
      "Shape of X_test: (1603, 3460)\n",
      "Shape of y_train: (6410,)\n",
      "Shape of y_test: (1603,)\n"
     ]
    }
   ],
   "source": [
    "print(\"Shape of X_train:\", X_train.shape)\n",
    "print(\"Shape of X_test:\", X_test.shape)\n",
    "print(\"Shape of y_train:\", y_train.shape)\n",
    "print(\"Shape of y_test:\", y_test.shape)"
   ]
  },
  {
   "cell_type": "markdown",
   "id": "04192cc8",
   "metadata": {},
   "source": [
    "# Logistic Regression model\n"
   ]
  },
  {
   "cell_type": "code",
   "execution_count": 20,
   "id": "30032e56",
   "metadata": {},
   "outputs": [
    {
     "name": "stdout",
     "output_type": "stream",
     "text": [
      "Logistic Regression - F1-Score: 0.9040908321782416\n"
     ]
    }
   ],
   "source": [
    "from sklearn.metrics import f1_score\n",
    "\n",
    "# Logistic Regression\n",
    "logistic_regression_model = LogisticRegression()\n",
    "logistic_regression_model.fit(X_train, y_train)\n",
    "y_pred_lr = logistic_regression_model.predict(X_test)\n",
    "f1_lr = f1_score(y_test, y_pred_lr, average='weighted')\n",
    "print(f\"Logistic Regression - F1-Score: {f1_lr}\")"
   ]
  },
  {
   "cell_type": "code",
   "execution_count": 21,
   "id": "66b768aa",
   "metadata": {},
   "outputs": [
    {
     "name": "stdout",
     "output_type": "stream",
     "text": [
      "Accuracy: 0.9237129485179407\n",
      "f1_score: 0.9111098841953658\n",
      "confusion matrix:\n",
      " [[ 325  453]\n",
      " [  36 5596]]\n"
     ]
    }
   ],
   "source": [
    "from sklearn.metrics import accuracy_score, confusion_matrix\n",
    "\n",
    "y_train_pred = logistic_regression_model.predict(X_train)\n",
    "\n",
    "# Calculate the Accuracy\n",
    "accuracy = accuracy_score(y_train, y_train_pred)\n",
    "print(\"Accuracy:\", accuracy)\n",
    "\n",
    "# Calculate the F1-score\n",
    "f1 = f1_score(y_train, y_train_pred, average='weighted')\n",
    "print(\"f1_score:\", f1)\n",
    "\n",
    "# Print the confusion matrix\n",
    "cm = confusion_matrix(y_train, y_train_pred)\n",
    "print(\"confusion matrix:\\n\", cm)"
   ]
  },
  {
   "cell_type": "code",
   "execution_count": 22,
   "id": "4899ebe8",
   "metadata": {},
   "outputs": [
    {
     "data": {
      "image/png": "[encoded data removed]",
      "text/plain": [
       "<Figure size 432x288 with 2 Axes>"
      ]
     },
     "metadata": {
      "needs_background": "light"
     },
     "output_type": "display_data"
    }
   ],
   "source": [
    "# Calculating the confusion matrix\n",
    "cm =confusion_matrix(y_train, y_train_pred)\n",
    "\n",
    "# Calculating row-wise sums (actual)\n",
    "actual = np.sum(cm, axis=1).reshape(-1, 1)\n",
    "\n",
    "# Normalizing the confusion matrix\n",
    "cmn = np.round(cm / actual, 2)\n",
    "\n",
    "# Plot the normalized confusion matrix\n",
    "plt.figure(figsize=(6, 4))\n",
    "sns.heatmap(cmn, annot=True, fmt='.2f')\n",
    "plt.ylabel('Actual Labels')\n",
    "plt.xlabel('Predicted Labels')\n",
    "plt.title(\"Confusion Matrix\")\n",
    "plt.show()"
   ]
  },
  {
   "cell_type": "markdown",
   "id": "6e5ca447",
   "metadata": {},
   "source": [
    "# Naive Bayes model\n"
   ]
  },
  {
   "cell_type": "code",
   "execution_count": 23,
   "id": "56715947",
   "metadata": {},
   "outputs": [
    {
     "name": "stdout",
     "output_type": "stream",
     "text": [
      "Multinomial Naive Bayes - F1-Score: 0.8652418790348398\n"
     ]
    }
   ],
   "source": [
    "# Multinomial Naive Bayes\n",
    "naive_bayes_model = MultinomialNB()\n",
    "naive_bayes_model.fit(X_train, y_train)\n",
    "y_pred_nb = naive_bayes_model.predict(X_test)\n",
    "f1_nb = f1_score(y_test, y_pred_nb, average='weighted')\n",
    "print(f\"Multinomial Naive Bayes - F1-Score: {f1_nb}\")"
   ]
  },
  {
   "cell_type": "code",
   "execution_count": 24,
   "id": "d8e2c330",
   "metadata": {},
   "outputs": [
    {
     "name": "stdout",
     "output_type": "stream",
     "text": [
      "Accuracy: 0.9081123244929797\n",
      "f1_score: 0.8827007683640274\n",
      "confusion matrix:\n",
      " [[ 191  587]\n",
      " [   2 5630]]\n"
     ]
    }
   ],
   "source": [
    "from sklearn.metrics import accuracy_score, confusion_matrix\n",
    "\n",
    "y_train_pred = naive_bayes_model.predict(X_train)\n",
    "\n",
    "# Calculate the Accuracy\n",
    "accuracy = accuracy_score(y_train, y_train_pred)\n",
    "print(\"Accuracy:\", accuracy)\n",
    "\n",
    "# Calculate the F1-score\n",
    "f1 = f1_score(y_train, y_train_pred, average='weighted')\n",
    "print(\"f1_score:\", f1)\n",
    "\n",
    "# Print the confusion matrix\n",
    "cm = confusion_matrix(y_train, y_train_pred)\n",
    "print(\"confusion matrix:\\n\", cm)"
   ]
  },
  {
   "cell_type": "code",
   "execution_count": 25,
   "id": "370f97e4",
   "metadata": {},
   "outputs": [
    {
     "data": {
      "image/png": "[encoded data removed]",
      "text/plain": [
       "<Figure size 432x288 with 2 Axes>"
      ]
     },
     "metadata": {
      "needs_background": "light"
     },
     "output_type": "display_data"
    }
   ],
   "source": [
    "# Calculating the confusion matrix\n",
    "cm =confusion_matrix(y_train, y_train_pred)\n",
    "\n",
    "# Calculating row-wise sums (actual)\n",
    "actual = np.sum(cm, axis=1).reshape(-1, 1)\n",
    "\n",
    "# Normalizing the confusion matrix\n",
    "cmn = np.round(cm / actual, 2)\n",
    "\n",
    "# Plot the normalized confusion matrix\n",
    "plt.figure(figsize=(6, 4))\n",
    "sns.heatmap(cmn, annot=True, fmt='.2f')\n",
    "plt.ylabel('Actual Labels')\n",
    "plt.xlabel('Predicted Labels')\n",
    "plt.title(\"Confusion Matrix\")\n",
    "plt.show()"
   ]
  },
  {
   "cell_type": "markdown",
   "id": "27060582",
   "metadata": {},
   "source": [
    "# SVM model\n"
   ]
  },
  {
   "cell_type": "code",
   "execution_count": 26,
   "id": "deb74fd4",
   "metadata": {},
   "outputs": [
    {
     "name": "stdout",
     "output_type": "stream",
     "text": [
      "Support Vector Machine - F1-Score: 0.9114646728718101\n"
     ]
    }
   ],
   "source": [
    "# Support Vector Machine\n",
    "svm_model = SVC()\n",
    "svm_model.fit(X_train, y_train)\n",
    "y_pred_svm = svm_model.predict(X_test)\n",
    "f1_svm = f1_score(y_test, y_pred_svm, average='weighted')\n",
    "print(f\"Support Vector Machine - F1-Score: {f1_svm}\")"
   ]
  },
  {
   "cell_type": "code",
   "execution_count": 27,
   "id": "8f09841f",
   "metadata": {},
   "outputs": [
    {
     "name": "stdout",
     "output_type": "stream",
     "text": [
      "Accuracy: 0.9625585023400937\n",
      "f1_score: 0.9603764264673872\n",
      "confusion matrix:\n",
      " [[ 567  211]\n",
      " [  29 5603]]\n"
     ]
    }
   ],
   "source": [
    "from sklearn.metrics import accuracy_score, confusion_matrix\n",
    "\n",
    "y_train_pred = svm_model.predict(X_train)\n",
    "\n",
    "# Calculate the Accuracy\n",
    "accuracy = accuracy_score(y_train, y_train_pred)\n",
    "print(\"Accuracy:\", accuracy)\n",
    "\n",
    "# Calculate the F1-score\n",
    "f1 = f1_score(y_train, y_train_pred, average='weighted')\n",
    "print(\"f1_score:\", f1)\n",
    "\n",
    "# Print the confusion matrix\n",
    "cm = confusion_matrix(y_train, y_train_pred)\n",
    "print(\"confusion matrix:\\n\", cm)"
   ]
  },
  {
   "cell_type": "code",
   "execution_count": 28,
   "id": "91b8d808",
   "metadata": {},
   "outputs": [
    {
     "data": {
      "image/png": "[encoded data removed]",
      "text/plain": [
       "<Figure size 432x288 with 2 Axes>"
      ]
     },
     "metadata": {
      "needs_background": "light"
     },
     "output_type": "display_data"
    }
   ],
   "source": [
    "# Calculating the confusion matrix\n",
    "cm =confusion_matrix(y_train, y_train_pred)\n",
    "\n",
    "# Calculating row-wise sums (actual)\n",
    "actual = np.sum(cm, axis=1).reshape(-1, 1)\n",
    "\n",
    "# Normalizing the confusion matrix\n",
    "cmn = np.round(cm / actual, 2)\n",
    "\n",
    "# Plot the normalized confusion matrix\n",
    "plt.figure(figsize=(6, 4))\n",
    "sns.heatmap(cmn, annot=True, fmt='.2f')\n",
    "plt.ylabel('Actual Labels')\n",
    "plt.xlabel('Predicted Labels')\n",
    "plt.title(\"Confusion Matrix\")\n",
    "plt.show()"
   ]
  },
  {
   "cell_type": "markdown",
   "id": "dc83b74c",
   "metadata": {},
   "source": [
    "# Random Forest model\n"
   ]
  },
  {
   "cell_type": "code",
   "execution_count": 29,
   "id": "a0240209",
   "metadata": {},
   "outputs": [
    {
     "name": "stdout",
     "output_type": "stream",
     "text": [
      "Random Forest - F1-Score: 0.9158681264288699\n"
     ]
    }
   ],
   "source": [
    "# Random Forest\n",
    "random_forest_model = RandomForestClassifier()\n",
    "random_forest_model.fit(X_train, y_train)\n",
    "y_pred_rf = random_forest_model.predict(X_test)\n",
    "f1_rf = f1_score(y_test, y_pred_rf, average='weighted')\n",
    "print(f\"Random Forest - F1-Score: {f1_rf}\")"
   ]
  },
  {
   "cell_type": "code",
   "execution_count": 30,
   "id": "8474aef4",
   "metadata": {},
   "outputs": [
    {
     "name": "stdout",
     "output_type": "stream",
     "text": [
      "Accuracy: 0.9781591263650546\n",
      "f1_score: 0.9775473702576968\n",
      "confusion matrix:\n",
      " [[ 661  117]\n",
      " [  23 5609]]\n"
     ]
    }
   ],
   "source": [
    "from sklearn.metrics import accuracy_score, confusion_matrix\n",
    "\n",
    "y_train_pred = random_forest_model.predict(X_train)\n",
    "\n",
    "# Calculate the Accuracy\n",
    "accuracy = accuracy_score(y_train, y_train_pred)\n",
    "print(\"Accuracy:\", accuracy)\n",
    "\n",
    "# Calculate the F1-score\n",
    "f1 = f1_score(y_train, y_train_pred, average='weighted')\n",
    "print(\"f1_score:\", f1)\n",
    "\n",
    "# Print the confusion matrix\n",
    "cm = confusion_matrix(y_train, y_train_pred)\n",
    "print(\"confusion matrix:\\n\", cm)"
   ]
  },
  {
   "cell_type": "code",
   "execution_count": 31,
   "id": "709f3eae",
   "metadata": {},
   "outputs": [
    {
     "data": {
      "image/png": "[encoded data removed]",
      "text/plain": [
       "<Figure size 432x288 with 2 Axes>"
      ]
     },
     "metadata": {
      "needs_background": "light"
     },
     "output_type": "display_data"
    }
   ],
   "source": [
    "# Calculating the confusion matrix\n",
    "cm =confusion_matrix(y_train, y_train_pred)\n",
    "\n",
    "# Calculating row-wise sums (actual)\n",
    "actual = np.sum(cm, axis=1).reshape(-1, 1)\n",
    "\n",
    "# Normalizing the confusion matrix\n",
    "cmn = np.round(cm / actual, 2)\n",
    "\n",
    "# Plot the normalized confusion matrix\n",
    "plt.figure(figsize=(6, 4))\n",
    "sns.heatmap(cmn, annot=True, fmt='.2f')\n",
    "plt.ylabel('Actual Labels')\n",
    "plt.xlabel('Predicted Labels')\n",
    "plt.title(\"Confusion Matrix\")\n",
    "plt.show()"
   ]
  },
  {
   "cell_type": "markdown",
   "id": "c51b3db2",
   "metadata": {},
   "source": [
    "# K-Nearest Neighbor model\n"
   ]
  },
  {
   "cell_type": "code",
   "execution_count": 32,
   "id": "24406a1d",
   "metadata": {},
   "outputs": [
    {
     "name": "stdout",
     "output_type": "stream",
     "text": [
      "KNN - F1-Score: 0.9003110287724667\n"
     ]
    }
   ],
   "source": [
    "# KNeighborsClassifier \n",
    "from sklearn.neighbors import KNeighborsClassifier\n",
    "KNeighborsClassifier = KNeighborsClassifier()\n",
    "KNeighborsClassifier.fit(X_train, y_train)\n",
    "y_pred_rf = KNeighborsClassifier.predict(X_test)\n",
    "f1_rf = f1_score(y_test, y_pred_rf, average='weighted')\n",
    "print(f\"KNN - F1-Score: {f1_rf}\")"
   ]
  },
  {
   "cell_type": "code",
   "execution_count": 33,
   "id": "90fae40d",
   "metadata": {},
   "outputs": [
    {
     "name": "stdout",
     "output_type": "stream",
     "text": [
      "Accuracy: 0.924804992199688\n",
      "f1_score: 0.9158264976818076\n",
      "confusion matrix:\n",
      " [[ 373  405]\n",
      " [  77 5555]]\n"
     ]
    }
   ],
   "source": [
    "from sklearn.metrics import accuracy_score, confusion_matrix\n",
    "\n",
    "y_train_pred = KNeighborsClassifier.predict(X_train)\n",
    "\n",
    "# Calculate the Accuracy\n",
    "accuracy = accuracy_score(y_train, y_train_pred)\n",
    "print(\"Accuracy:\", accuracy)\n",
    "\n",
    "# Calculate the F1-score\n",
    "f1 = f1_score(y_train, y_train_pred, average='weighted')\n",
    "print(\"f1_score:\", f1)\n",
    "\n",
    "# Print the confusion matrix\n",
    "cm = confusion_matrix(y_train, y_train_pred)\n",
    "print(\"confusion matrix:\\n\", cm)"
   ]
  },
  {
   "cell_type": "code",
   "execution_count": 34,
   "id": "38ccbf7d",
   "metadata": {},
   "outputs": [
    {
     "data": {
      "image/png": "[encoded data removed]",
      "text/plain": [
       "<Figure size 432x288 with 2 Axes>"
      ]
     },
     "metadata": {
      "needs_background": "light"
     },
     "output_type": "display_data"
    }
   ],
   "source": [
    "# Calculating the confusion matrix\n",
    "cm =confusion_matrix(y_train, y_train_pred)\n",
    "\n",
    "# Calculating row-wise sums (actual)\n",
    "actual = np.sum(cm, axis=1).reshape(-1, 1)\n",
    "\n",
    "# Normalizing the confusion matrix\n",
    "cmn = np.round(cm / actual, 2)\n",
    "\n",
    "# Plot the normalized confusion matrix\n",
    "plt.figure(figsize=(6, 4))\n",
    "sns.heatmap(cmn, annot=True, fmt='.2f')\n",
    "plt.ylabel('Actual Labels')\n",
    "plt.xlabel('Predicted Labels')\n",
    "plt.title(\"Confusion Matrix\")\n",
    "plt.show()"
   ]
  },
  {
   "cell_type": "markdown",
   "id": "310378b4",
   "metadata": {},
   "source": [
    "# Deep learning -> Neural Network"
   ]
  },
  {
   "cell_type": "code",
   "execution_count": 35,
   "id": "d6e53377",
   "metadata": {},
   "outputs": [
    {
     "name": "stdout",
     "output_type": "stream",
     "text": [
      "WARNING:tensorflow:From C:\\Users\\pulki\\anaconda3\\lib\\site-packages\\keras\\src\\losses.py:2976: The name tf.losses.sparse_softmax_cross_entropy is deprecated. Please use tf.compat.v1.losses.sparse_softmax_cross_entropy instead.\n",
      "\n",
      "WARNING:tensorflow:From C:\\Users\\pulki\\anaconda3\\lib\\site-packages\\keras\\src\\backend.py:873: The name tf.get_default_graph is deprecated. Please use tf.compat.v1.get_default_graph instead.\n",
      "\n",
      "WARNING:tensorflow:From C:\\Users\\pulki\\anaconda3\\lib\\site-packages\\keras\\src\\optimizers\\__init__.py:309: The name tf.train.Optimizer is deprecated. Please use tf.compat.v1.train.Optimizer instead.\n",
      "\n",
      "Epoch 1/10\n",
      "WARNING:tensorflow:From C:\\Users\\pulki\\anaconda3\\lib\\site-packages\\keras\\src\\utils\\tf_utils.py:492: The name tf.ragged.RaggedTensorValue is deprecated. Please use tf.compat.v1.ragged.RaggedTensorValue instead.\n",
      "\n",
      "WARNING:tensorflow:From C:\\Users\\pulki\\anaconda3\\lib\\site-packages\\keras\\src\\engine\\base_layer_utils.py:384: The name tf.executing_eagerly_outside_functions is deprecated. Please use tf.compat.v1.executing_eagerly_outside_functions instead.\n",
      "\n",
      "201/201 [==============================] - 2s 7ms/step - loss: 0.3432 - accuracy: 0.8768 - val_loss: 0.2457 - val_accuracy: 0.8802\n",
      "Epoch 2/10\n",
      "201/201 [==============================] - 1s 6ms/step - loss: 0.2134 - accuracy: 0.9145 - val_loss: 0.2189 - val_accuracy: 0.9239\n",
      "Epoch 3/10\n",
      "201/201 [==============================] - 1s 7ms/step - loss: 0.1694 - accuracy: 0.9448 - val_loss: 0.2172 - val_accuracy: 0.9220\n",
      "Epoch 4/10\n",
      "201/201 [==============================] - 1s 6ms/step - loss: 0.1475 - accuracy: 0.9540 - val_loss: 0.2268 - val_accuracy: 0.9133\n",
      "Epoch 5/10\n",
      "201/201 [==============================] - 1s 7ms/step - loss: 0.1275 - accuracy: 0.9605 - val_loss: 0.2476 - val_accuracy: 0.9158\n",
      "Epoch 6/10\n",
      "201/201 [==============================] - 1s 7ms/step - loss: 0.1174 - accuracy: 0.9654 - val_loss: 0.2593 - val_accuracy: 0.9127\n",
      "Epoch 7/10\n",
      "201/201 [==============================] - 1s 7ms/step - loss: 0.1067 - accuracy: 0.9679 - val_loss: 0.2726 - val_accuracy: 0.9002\n",
      "Epoch 8/10\n",
      "201/201 [==============================] - 1s 6ms/step - loss: 0.1049 - accuracy: 0.9696 - val_loss: 0.2831 - val_accuracy: 0.9070\n",
      "Epoch 9/10\n",
      "201/201 [==============================] - 2s 8ms/step - loss: 0.1008 - accuracy: 0.9680 - val_loss: 0.2937 - val_accuracy: 0.9052\n",
      "Epoch 10/10\n",
      "201/201 [==============================] - 1s 7ms/step - loss: 0.0985 - accuracy: 0.9690 - val_loss: 0.3034 - val_accuracy: 0.9052\n",
      "51/51 [==============================] - 0s 2ms/step - loss: 0.3034 - accuracy: 0.9052\n",
      "Accuracy: 0.9051777720451355\n",
      "51/51 [==============================] - 0s 2ms/step\n",
      "F1-Score: 0.9467414155571129\n"
     ]
    }
   ],
   "source": [
    "# Importing Keras libraries\n",
    "from keras.models import Sequential\n",
    "from keras.layers import Dense, Dropout\n",
    "\n",
    "# Convert sentiment labels to numeric format\n",
    "y_train_numeric = y_train.map({'positive': 1, 'negative': 0})\n",
    "y_test_numeric = y_test.map({'positive': 1, 'negative': 0})\n",
    "\n",
    "\n",
    "# Building a simple Neural Network\n",
    "nn = Sequential()\n",
    "nn.add(Dense(128, input_dim=X_train.shape[1], activation='relu'))\n",
    "nn.add(Dropout(0.5))\n",
    "nn.add(Dense(64, activation='relu'))\n",
    "nn.add(Dropout(0.5))\n",
    "nn.add(Dense(1, activation='sigmoid'))\n",
    "\n",
    "# Compiling the model\n",
    "nn.compile(loss='binary_crossentropy', optimizer='adam', metrics=['accuracy'])\n",
    "\n",
    "\n",
    "# Training the model\n",
    "nn.fit(X_train.toarray(), y_train_numeric, epochs=10, batch_size=32, validation_data=(X_test.toarray(), y_test_numeric))\n",
    "\n",
    "# Evaluating the model\n",
    "_, accuracy = nn.evaluate(X_test.toarray(), y_test_numeric)\n",
    "print(\"Accuracy:\", accuracy)\n",
    "\n",
    "from sklearn.metrics import f1_score\n",
    "\n",
    "# Predict the test data\n",
    "y_pred = nn.predict(X_test.toarray())\n",
    "\n",
    "# Convert probabilities to binary predictions (0 or 1)\n",
    "y_pred_binary = (y_pred > 0.5).astype(int)\n",
    "\n",
    "# Calculate the F1-score\n",
    "f1 = f1_score(y_test_numeric, y_pred_binary)\n",
    "print(\"F1-Score:\", f1)"
   ]
  },
  {
   "cell_type": "code",
   "execution_count": 36,
   "id": "c8ac7adc",
   "metadata": {},
   "outputs": [
    {
     "data": {
      "text/plain": [
       "['C:/Users/pulki/OneDrive/Desktop/flipkart sentiment analysis/Pickle/tfidf_vectorizer.pkl']"
      ]
     },
     "execution_count": 36,
     "metadata": {},
     "output_type": "execute_result"
    }
   ],
   "source": [
    "from joblib import dump\n",
    "\n",
    "# Save the trained model as a .pkl file with full path\n",
    "dump(naive_bayes_model, 'C:/Users/pulki/OneDrive/Desktop/flipkart sentiment analysis/Pickle/MultinomialNB_model.pkl')\n",
    "dump(svm_model, 'C:/Users/pulki/OneDrive/Desktop/flipkart sentiment analysis/Pickle/SVC_model.pkl')\n",
    "dump(logistic_regression_model, 'C:/Users/pulki/OneDrive/Desktop/flipkart sentiment analysis/Pickle/Logistic_Regression_model.pkl')\n",
    "dump(random_forest_model, 'C:/Users/pulki/OneDrive/Desktop/flipkart sentiment analysis/Pickle/Random_forest_model.pkl')\n",
    "dump(KNeighborsClassifier, 'C:/Users/pulki/OneDrive/Desktop/flipkart sentiment analysis/Pickle/KNeighbors_model.pkl')\n",
    "dump(nn, 'C:/Users/pulki/OneDrive/Desktop/flipkart sentiment analysis/Pickle/nn.pkl')\n",
    "# Save the TF-IDF vectorizer as a .pkl file with full path\n",
    "dump(tfidf_vectorizer, 'C:/Users/pulki/OneDrive/Desktop/flipkart sentiment analysis/Pickle/tfidf_vectorizer.pkl')\n"
   ]
  },
  {
   "cell_type": "code",
   "execution_count": 41,
   "id": "a0448d89",
   "metadata": {},
   "outputs": [
    {
     "name": "stdout",
     "output_type": "stream",
     "text": [
      "Sentiment: Positive\n"
     ]
    }
   ],
   "source": [
    "from joblib import load\n",
    "\n",
    "# Load the Random Forest model from a .pkl file\n",
    "random_forest_model = load(r\"C:\\Users\\pulki\\OneDrive\\Desktop\\flipkart sentiment analysis\\Pickle\\Random_forest_model.pkl\")\n",
    "def predict_sentiment(input_text):\n",
    "    # Preprocess the input text\n",
    "    preprocess_text = clean_text(input_text)\n",
    "\n",
    "    preprocessed_text = clean_text(preprocess_text)\n",
    "\n",
    "    # Transform the preprocessed text into numerical features\n",
    "    features = tfidf_vectorizer.transform([preprocessed_text])\n",
    "    \n",
    "    # Make prediction using the loaded random forest model\n",
    "    prediction = random_forest_model.predict(features)[0]\n",
    "    \n",
    "    # Convert the prediction to human-readable format\n",
    "    if prediction == \"positive\":\n",
    "        return \"Positive\"\n",
    "    else:\n",
    "        return \"Negative\"\n",
    "\n",
    "# Example usage:\n",
    "input_text =\"good product\"\n",
    "sentiment = predict_sentiment(input_text)\n",
    "print(\"Sentiment:\", sentiment)"
   ]
  },
  {
   "cell_type": "markdown",
   "id": "a4b6272a",
   "metadata": {},
   "source": [
    "### The highest F1 score:\n",
    "\n",
    "#### Random Forest Classifier has highest F1 score = 0.9141757582724249"
   ]
  }
 ],
 "metadata": {
  "kernelspec": {
   "display_name": "Python 3 (ipykernel)",
   "language": "python",
   "name": "python3"
  },
  "language_info": {
   "codemirror_mode": {
    "name": "ipython",
    "version": 3
   },
   "file_extension": ".py",
   "mimetype": "text/x-python",
   "name": "python",
   "nbconvert_exporter": "python",
   "pygments_lexer": "ipython3",
   "version": "3.9.12"
  }
 },
 "nbformat": 4,
 "nbformat_minor": 5
}
